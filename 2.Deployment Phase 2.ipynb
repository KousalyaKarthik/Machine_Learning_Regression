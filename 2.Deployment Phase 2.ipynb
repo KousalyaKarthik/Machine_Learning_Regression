{
 "cells": [
  {
   "cell_type": "code",
   "execution_count": 5,
   "id": "5a293975",
   "metadata": {},
   "outputs": [
    {
     "name": "stderr",
     "output_type": "stream",
     "text": [
      "C:\\Anaconda3\\Lib\\site-packages\\sklearn\\base.py:464: UserWarning: X does not have valid feature names, but LinearRegression was fitted with feature names\n",
      "  warnings.warn(\n"
     ]
    }
   ],
   "source": [
    "#importing Pickle library which is used for storing or loading objects or files\n",
    "import pickle\n",
    "#Using load library to load the object data from the file ,reading in binary mode\n",
    "loaded_model=pickle.load(open(\"finalised_model_linear.sav\",'rb'))\n",
    "#Passing the user input or predicting the output \n",
    "result= loaded_model.predict([[13]])"
   ]
  },
  {
   "cell_type": "code",
   "execution_count": 6,
   "id": "da0d34a0",
   "metadata": {},
   "outputs": [
    {
     "data": {
      "text/plain": [
       "array([[148460.78806172]])"
      ]
     },
     "execution_count": 6,
     "metadata": {},
     "output_type": "execute_result"
    }
   ],
   "source": [
    "#Printing or viewing the result\n",
    "result"
   ]
  },
  {
   "cell_type": "code",
   "execution_count": null,
   "id": "e18cd9e4",
   "metadata": {},
   "outputs": [],
   "source": []
  }
 ],
 "metadata": {
  "kernelspec": {
   "display_name": "Python 3 (ipykernel)",
   "language": "python",
   "name": "python3"
  },
  "language_info": {
   "codemirror_mode": {
    "name": "ipython",
    "version": 3
   },
   "file_extension": ".py",
   "mimetype": "text/x-python",
   "name": "python",
   "nbconvert_exporter": "python",
   "pygments_lexer": "ipython3",
   "version": "3.11.5"
  }
 },
 "nbformat": 4,
 "nbformat_minor": 5
}
